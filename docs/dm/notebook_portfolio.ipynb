{
 "cells": [
  {
   "cell_type": "markdown",
   "id": "3a609f14-2ad6-497c-a85e-90be9f949e97",
   "metadata": {},
   "source": [
    "# Homework -- Sequential Learning\n",
    "\n",
    "Pierre Gaillard -- Jan. 2025\n",
    "\n",
    "\n",
    "# Part 1. Porfolio Selection\n",
    "\n",
    "\n",
    "\n",
    "The objective of this homework is to implement from scratch several algorithms from the class to select a portfolio. \n",
    "Given an initial capital $\\mathrm{Cap}_0 > 0$, a trader repeatedly distributes her capital over $d$ assets with the goal of maximizing the total return. At each round $t=1,\\dots, T$, the trader chooses an allocation $w_t \\in \\Delta_d:= \\{\\theta \\in \\mathbb{R}^d_+, \\|\\theta\\|_1 = 1\\}$. Here, $w_t(i)$ represents the share of capital invested into asset $i \\in [d]$ at this round. At the end of the round, the returns (the ratios of the closing and opening prices of all assets in this round) are revealed in the form of $r_t \\in \\mathbb{R}^d_+$ and the trader's capital is updated as\n",
    "$$\n",
    "    \\mathrm{Cap}_t = \\mathrm{Cap}_{t-1} \\langle w_t, r_t \\rangle \\,.\n",
    "$$\n",
    "The performance of a strategy that selected portfolios $(w_t)$ is quantified by comparing the final capital $\\mathrm{Cap}_T$ against\n",
    "$$\n",
    "    \\mathrm{Cap}_T^* =  \\mathrm{Cap}_0 \\max_{w \\in \\Delta_d} \\prod_{t=1}^T \\langle w, r_t\\rangle \\,,\n",
    "$$\n",
    "the idealized final capital attained by the best static strategy constrained to select the same rebalanced portfolio in all rounds. Due to the multiplicative structure, to maximize the capital it is natural to maximize the ratio $\\mathrm{Cap}_T/ \\mathrm{Cap}_T^*$, which is equivalent to minimizing the regret\n",
    "$$\n",
    "    \\mathrm{Reg}_T := \\sum_{t=1}^T \\ell_t(w_t) - \\min_{w \\in \\Delta_d} \\sum_{t=1}^T \\ell_t(w) = - \\log \\frac{\\mathrm{Cap}_T}{\\mathrm{Cap}_T^*} \\,,\n",
    "$$\n",
    "where $\\ell_t(w) := - \\log \\langle w, r_t\\rangle$. In the following, we assume that the trader starts with $\\mathrm{Cap}_0 = \\$1$.\n",
    "\n",
    "\n",
    "## Datasets\n",
    "\n",
    "\n",
    "The folder `data` contains six datasets from financial markets: Dow Jones (DJIA), Morgan Stanley Capital International (MSCI), New York Stock Exchange (NYSE), Standard \\& Poor's 500 Index (S\\&P 500), and Toronto Stock Exchange (TSE). In these datasets, each row corresponds to a vector of price ratios, denoted as $r_t$. In other words, if $x$ dollars are invested in asset $k$ on day $t$, the trader's capital is updated to $x \\cdot r_t(k)$.\n",
    "\n",
    "| Dataset    | Region | Time Frame                          | # Periods | # Assets |\n",
    "|------------|--------|--------------------------------------|-----------|----------|\n",
    "| NYSE (O)   | USA    | July 3, 1962 – December 31, 1984    | 5651      | 36       |\n",
    "| NYSE (N)   | USA    | January 1, 1985 – June 30, 2010     | 6431      | 23       |\n",
    "| TSE        | CA     | January 4, 1994 – December 31, 1998 | 1259      | 88       |\n",
    "| SP500      | USA    | January 2, 1998 – January 31, 2003  | 1276      | 25       |\n",
    "| MSCI       | Global | April 1, 2006 – March 31, 2010      | 1043      | 24       |\n",
    "| DJIA       | USA    | January 14, 2001 – January 14, 2003 | 507       | 30       |\n",
    "\n"
   ]
  },
  {
   "cell_type": "code",
   "execution_count": null,
   "id": "652f7243-ff47-46bb-9ec7-4e6dbc1a741c",
   "metadata": {},
   "outputs": [],
   "source": [
    "import matplotlib.pyplot as plt\n",
    "import pandas as pd\n",
    "import numpy as np\n",
    "\n",
    "# Load data\n",
    "data_names = [\"djia\",\"msci\",\"nyse-n\",\"nyse-o\",\"sp500\",\"tse\"]\n",
    "data = {}\n",
    "\n",
    "fig, axes = plt.subplots(2, 3, figsize=(12, 8))  # 2 rows, 3 columns\n",
    "axes = axes.flatten()\n",
    "for i in range(6):\n",
    "    name = data_names[i]\n",
    "    data[name] = pd.read_csv(\"data/\"+name+\".csv\",header = None) \n",
    "    axes[i].plot(data[name]) \n",
    "    axes[i].set_title(name)\n",
    "plt.tight_layout()\n",
    "plt.show()"
   ]
  },
  {
   "cell_type": "markdown",
   "id": "13937ec1-3494-48a1-895d-c09ce0c5a130",
   "metadata": {},
   "source": [
    "### Question 1\n",
    "\n",
    "Display a table that shows for each dataset:\n",
    "* the final capital $\\max_{k} \\prod_{t=1}^T r_t(k)$ obtained by the trader if she had chosen the best fixed asset;\n",
    "* the final capital $\\mathrm{Cap_T^*}$ obtained by the trader if she had chosen the best fixed rebalanced portfolio (you may use convex optimisation libraries)."
   ]
  },
  {
   "cell_type": "markdown",
   "id": "9044c076-ad15-4a87-9b97-04906cc7915a",
   "metadata": {},
   "source": [
    "### Question 2\n",
    "Implement the update rule of the exponentially weighted average algorithm, that takes the current weight vector $w_t$, the vector $r_r$ and a learning rate and return the new weight vector."
   ]
  },
  {
   "cell_type": "code",
   "execution_count": null,
   "id": "8398255d-6ae5-4b2c-8f59-3cf48a4de7eb",
   "metadata": {},
   "outputs": [],
   "source": [
    "def EWA_update(eta, p, r):\n",
    "  # eta: learning rate\n",
    "  # p: an np.array of shape (d,); vector of weights in Delta_d; to be updated\n",
    "  # r: an np.array of shape (d,); vector of price ratios\n",
    "  # Returns: an np.array of shape (d,); \n",
    "\n",
    "  # ---\n",
    "  # ADD YOUR CODE HERE\n",
    "  # ---\n",
    "\n",
    "  return"
   ]
  },
  {
   "cell_type": "markdown",
   "id": "b326e65d-bb8e-4bc5-9975-dff959101c6b",
   "metadata": {},
   "source": [
    "### Question 3 - EWA\n",
    "\n",
    "Use EWA_update to select you portfolio sequentially."
   ]
  },
  {
   "cell_type": "code",
   "execution_count": null,
   "id": "d3753cf7-b16a-4976-9751-79005be7e8d3",
   "metadata": {},
   "outputs": [],
   "source": [
    "# Set a learning rate\n",
    "eta = 1\n",
    "capital_ewa = {}\n",
    "\n",
    "for name in data_names:\n",
    "    T, d = data[name].shape\n",
    "    capital_ewa[name] = 1\n",
    "    \n",
    "    # Initialize the weights\n",
    "    w = np.full(d, 1/d)\n",
    "\n",
    "    for day in range(T):\n",
    "        # Update capital\n",
    "        capital_ewa[name] = None # TODO\n",
    "        # Update the weight vector to redistribute the capital for the next day\n",
    "        w =  None # TODO\n",
    "    \n",
    "display(capital_ewa)"
   ]
  },
  {
   "cell_type": "markdown",
   "id": "4e63279d-db7f-4e25-aa4d-14838881abd6",
   "metadata": {},
   "source": [
    "### Question 4\n",
    "\n",
    "a) What is the best theoretical value for eta ? \n",
    "\n",
    "b) Plot for the `djia` dataset the evolution of the weights for the theoretical value of eta and a well-chosen value (tuned by hand to minimize the final error).\n",
    "\n",
    "\n",
    "### Question 5 -- EG\n",
    "Repeat questions 3 and 4 by using the gradient of the loss (i.e., by using EG) instead of the loss vectors of the experts directly. \n",
    "\n",
    "### Question 6 - Projection on the unit simplex\n",
    "\n",
    "Here is a simple algorithm to implement (Source at the end of the document).\n",
    "\n",
    "Let $x=\\big(x(i)\\big)\\in\\mathbb{R}^M$,\n",
    "- Sort the coordinates of x into $y_1\\geq y_2\\geq\\dots\\geq y_M$,\n",
    "- Find\n",
    "$$ \\rho=\\max\\Big\\{j\\in 1,\\dots,M:\\ y_j-\\frac{1}{j}\\big(\\sum_{r=1}^jy_r-1\\big)>0\\Big\\},$$\n",
    "- Define $z = \\frac{1}{\\rho}\\big(\\sum_{r=1}^\\rho y_r-1\\big)$,\n",
    "- Return, for all $i=1, \\dots,M$\n",
    "$$\\big(\\Pi_{\\Delta_M}(x)\\big)(i) = \\max\\big\\{x(i)-z, 0\\big\\}$$\n",
    "\n",
    "Define the projection function.\n",
    "\n"
   ]
  },
  {
   "cell_type": "code",
   "execution_count": null,
   "id": "6f48d2b9-233d-43b4-8dc9-c932db22d565",
   "metadata": {},
   "outputs": [],
   "source": [
    "# Projection on the simplex.\n",
    "def proj_simplex(w):\n",
    "  # w: vector in R^d\n",
    "  # Returns: a vector in Delta_d\n",
    "\n",
    "  # ---\n",
    "  # ADD YOUR CODE HERE\n",
    "  # ---\n",
    "  return"
   ]
  },
  {
   "cell_type": "markdown",
   "id": "8b5ee166-ef5f-470a-988c-83aa21639707",
   "metadata": {},
   "source": [
    "### Question 7 - OGD\n",
    "Implement the update rule of the Online Gradient Descent algorithm, that take the current weight vector $w_t$, the gradientof $g_t$ and a learning rate and return the new weight vector."
   ]
  },
  {
   "cell_type": "code",
   "execution_count": null,
   "id": "1a32a67f-e604-436f-b8fb-2ab791d26efd",
   "metadata": {},
   "outputs": [],
   "source": [
    "def OGD_update(eta, w, r):\n",
    "  # eta: learning rate\n",
    "  # w: an np.array of shape (d,); vector of weights in Delta_d; to be updated\n",
    "  # r: an np.array of shape (d,); price ratio\n",
    "  # Returns: an np.array of shape (d,); \n",
    "\n",
    "  # ---\n",
    "  # ADD YOUR CODE HERE\n",
    "  # ---\n",
    "  return"
   ]
  },
  {
   "cell_type": "markdown",
   "id": "6900ef00-8da4-4553-b79c-db04139c3d4f",
   "metadata": {},
   "source": [
    "### Question 8 \n",
    "Repeat questions 3 and 4 with OGD.\n",
    "\n",
    "### Question 9\n",
    "Test better solutions to tune the learning rate in practice for OGD. Ideas: use $\\eta_t = \\sqrt{1/\\sum_{s=1}^t \\|g_s\\|^2}$ for OGD, where $g_s$ is the gradient at time $s$, or define a grid of possible learning rate and use at time $t$ the learning rate that performed the best until round $t-1$.\n",
    "\n",
    "### Question 10 \n",
    "What particular curvature property has the loss function here. What would be the regret of ONS compared to OGD or EG?\n",
    "\n",
    "### Question 11 (optional)\n",
    "Repeat questions 3 and 4 with ONS or OMD with a custom regularization function (you may use convex optimization library to compute the update of the algorithm or the projection). \n",
    "\n",
    "### Question 12\n",
    "Print a table summarizing the final capital obtained by the best asset, the best fixed rebalanced portfolio, and the different algorithms (each for the best learning rate tuned on data and the theoretical value).\n",
    "\n",
    "\n",
    "### Question 13 (optional) -- Bandit feedback\n",
    "We now assume that each day, the trader only observes its updated captital at each round $\\mathrm{Cap}_{t}$ and has no access to the vectors $r_t$. Implement OGD with no gradient to select your portfolio in this case and display you final capitals. "
   ]
  },
  {
   "cell_type": "markdown",
   "id": "309a3f82-e082-4b1a-8f8f-cee0386122a1",
   "metadata": {},
   "source": [
    "# References\n",
    "- Duchi, J., Shalev-Shwartz, S., Singer, Y., & Chandra, T. (2008, July). Efficient projections onto the l 1-ball for learning in high dimensions. In Proceedings of the 25th international conference on Machine learning (pp. 272-279)."
   ]
  },
  {
   "cell_type": "code",
   "execution_count": null,
   "id": "27788c6e-a30e-439e-8693-91fc88b72ce9",
   "metadata": {},
   "outputs": [],
   "source": []
  }
 ],
 "metadata": {
  "kernelspec": {
   "display_name": "Python 3 (ipykernel)",
   "language": "python",
   "name": "python3"
  },
  "language_info": {
   "codemirror_mode": {
    "name": "ipython",
    "version": 3
   },
   "file_extension": ".py",
   "mimetype": "text/x-python",
   "name": "python",
   "nbconvert_exporter": "python",
   "pygments_lexer": "ipython3",
   "version": "3.9.20"
  }
 },
 "nbformat": 4,
 "nbformat_minor": 5
}
